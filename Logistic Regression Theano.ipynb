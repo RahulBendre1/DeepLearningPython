{
 "cells": [
  {
   "cell_type": "code",
   "execution_count": 18,
   "metadata": {},
   "outputs": [],
   "source": [
    "# Import modules\n",
    "import numpy as np\n",
    "import theano\n",
    "import theano.tensor as T\n",
    "import sklearn.metrics\n",
    "import matplotlib.pyplot as plt"
   ]
  },
  {
   "cell_type": "code",
   "execution_count": 2,
   "metadata": {},
   "outputs": [],
   "source": [
    "# Regularization\n",
    "def L2(x):\n",
    "    return T.sum(x**2)"
   ]
  },
  {
   "cell_type": "code",
   "execution_count": 3,
   "metadata": {},
   "outputs": [],
   "source": [
    "# Examples and features\n",
    "examples = 1000\n",
    "features = 100"
   ]
  },
  {
   "cell_type": "code",
   "execution_count": 4,
   "metadata": {},
   "outputs": [],
   "source": [
    "# Create dataset\n",
    "D = (\n",
    "np.random.randn(examples,features),\n",
    "    np.random.randint(size=examples,\n",
    "                     low=0,\n",
    "                     high=2)\n",
    ")"
   ]
  },
  {
   "cell_type": "code",
   "execution_count": 5,
   "metadata": {},
   "outputs": [],
   "source": [
    "# Define training steps\n",
    "training_steps = 1000"
   ]
  },
  {
   "cell_type": "code",
   "execution_count": 6,
   "metadata": {},
   "outputs": [],
   "source": [
    "# Define features matrix\n",
    "x = T.dmatrix('x')\n",
    "# Define label vector\n",
    "y = T.dvector('y')\n",
    "# Define shared variables\n",
    "# Weight matrix\n",
    "# Initialize with random values\n",
    "w = theano.shared(\n",
    "np.random.randn(features), name = 'w'\n",
    ")\n",
    "# Bias\n",
    "# Initialize with 0\n",
    "b = theano.shared(0., name='b')\n"
   ]
  },
  {
   "cell_type": "code",
   "execution_count": 10,
   "metadata": {},
   "outputs": [],
   "source": [
    "p = 1 / (1 + T.exp(-T.dot(x,w)-b))\n",
    "# Define error\n",
    "# Use binary crossentropy\n",
    "error = T.nnet.binary_crossentropy(p,y)\n",
    "# Regularization\n",
    "lambda_reg = 0.01\n",
    "# Loss\n",
    "loss = error.mean() + lambda_reg * L2(w)"
   ]
  },
  {
   "cell_type": "code",
   "execution_count": 8,
   "metadata": {},
   "outputs": [],
   "source": [
    "# Prediction\n",
    "prediction = p > 0.5"
   ]
  },
  {
   "cell_type": "code",
   "execution_count": 11,
   "metadata": {},
   "outputs": [],
   "source": [
    "# Gradients\n",
    "gw, gb = T.grad(loss,[w,b])"
   ]
  },
  {
   "cell_type": "code",
   "execution_count": 14,
   "metadata": {},
   "outputs": [],
   "source": [
    "# Learning rate\n",
    "learning_rate = 0.01\n",
    "# Train function\n",
    "train = theano.function([x,y], [p,error],\n",
    "                       updates = (\n",
    "                       (w, w - learning_rate*gw),\n",
    "                           (b, b - learning_rate*gb)\n",
    "                       ))\n",
    "# Predict function\n",
    "predict = theano.function([x],prediction)"
   ]
  },
  {
   "cell_type": "code",
   "execution_count": 15,
   "metadata": {},
   "outputs": [
    {
     "name": "stdout",
     "output_type": "stream",
     "text": [
      "Accuracy before training = 0.501\n"
     ]
    }
   ],
   "source": [
    "# Display pre-training accuracy\n",
    "print(\"Accuracy before training = {}\".format(\n",
    "sklearn.metrics.accuracy_score(D[1],predict(D[0]))\n",
    "))"
   ]
  },
  {
   "cell_type": "code",
   "execution_count": 16,
   "metadata": {},
   "outputs": [],
   "source": [
    "# Errors array\n",
    "errors = []"
   ]
  },
  {
   "cell_type": "code",
   "execution_count": 17,
   "metadata": {},
   "outputs": [],
   "source": [
    "# Train network\n",
    "for i in range(training_steps):\n",
    "    prediction,error = train(D[0],D[1])\n",
    "    errors.append(error)"
   ]
  },
  {
   "cell_type": "code",
   "execution_count": 23,
   "metadata": {},
   "outputs": [
    {
     "name": "stdout",
     "output_type": "stream",
     "text": [
      "Accuracy after training = 0.528\n"
     ]
    }
   ],
   "source": [
    "print(\"Accuracy after training = {}\".format(\n",
    "sklearn.metrics.accuracy_score(D[1],predict(D[0]))\n",
    "))"
   ]
  },
  {
   "cell_type": "code",
   "execution_count": null,
   "metadata": {},
   "outputs": [],
   "source": []
  }
 ],
 "metadata": {
  "kernelspec": {
   "display_name": "Python 3",
   "language": "python",
   "name": "python3"
  },
  "language_info": {
   "codemirror_mode": {
    "name": "ipython",
    "version": 3
   },
   "file_extension": ".py",
   "mimetype": "text/x-python",
   "name": "python",
   "nbconvert_exporter": "python",
   "pygments_lexer": "ipython3",
   "version": "3.6.4"
  }
 },
 "nbformat": 4,
 "nbformat_minor": 2
}
