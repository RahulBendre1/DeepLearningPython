{
 "cells": [
  {
   "cell_type": "code",
   "execution_count": 6,
   "metadata": {},
   "outputs": [],
   "source": [
    "# Import modules\n",
    "import theano\n",
    "import theano.tensor as T\n",
    "import numpy as np\n",
    "from theano.ifelse import ifelse\n",
    "from theano.tensor import switch\n",
    "from theano import function"
   ]
  },
  {
   "cell_type": "code",
   "execution_count": 4,
   "metadata": {},
   "outputs": [],
   "source": [
    "# Define hinge losses\n",
    "def hinge_1(x,y):\n",
    "    return T.max([0*x, 1-x*y])\n",
    "\n",
    "def hinge_2(x,y):\n",
    "    # if 1 - x*y > 0, then, 1 - x*y\n",
    "    #                 else, 0\n",
    "    return ifelse(T.lt(1-x*y,0),0*x,1-x*y)\n",
    "\n",
    "def hinge_3(x,y):\n",
    "    return switch(T.lt(1-x*y,0),0*x,1-x*y)"
   ]
  },
  {
   "cell_type": "code",
   "execution_count": 7,
   "metadata": {},
   "outputs": [],
   "source": [
    "# Define variables\n",
    "x = T.dscalar('x')\n",
    "y = T.dscalar('y')\n",
    "\n",
    "z1 = hinge_1(x,y)\n",
    "z2 = hinge_2(x,y)\n",
    "z3 = hinge_3(x,y)\n",
    "\n",
    "# Define functions\n",
    "f1 = function([x,y],z1)\n",
    "f2 = function([x,y],z2)\n",
    "f3 = function([x,y],z3)"
   ]
  },
  {
   "cell_type": "code",
   "execution_count": 8,
   "metadata": {},
   "outputs": [
    {
     "name": "stdout",
     "output_type": "stream",
     "text": [
      "f(-2, 2) =  5.0 5.0 5.0\n",
      "f(-1, 2) =  3.0 3.0 3.0\n",
      "f(0, 2) =  1.0 1.0 1.0\n",
      "f(2, 2) =  0.0 0.0 0.0\n",
      "f(1, 2) =  0.0 0.0 0.0\n"
     ]
    }
   ],
   "source": [
    "# Display results\n",
    "print(\"f(-2, 2) = \",f1(-2,2),f2(-2,2),f3(-2,2))\n",
    "print(\"f(-1, 2) = \",f1(-1,2),f2(-1,2),f3(-1,2))\n",
    "print(\"f(0, 2) = \",f1(0,2),f2(0,2),f3(0,2))\n",
    "print(\"f(2, 2) = \",f1(2,2),f2(2,2),f3(2,2))\n",
    "print(\"f(1, 2) = \",f1(1,2),f2(1,2),f3(1,2))"
   ]
  },
  {
   "cell_type": "code",
   "execution_count": null,
   "metadata": {},
   "outputs": [],
   "source": []
  }
 ],
 "metadata": {
  "kernelspec": {
   "display_name": "Python 3",
   "language": "python",
   "name": "python3"
  },
  "language_info": {
   "codemirror_mode": {
    "name": "ipython",
    "version": 3
   },
   "file_extension": ".py",
   "mimetype": "text/x-python",
   "name": "python",
   "nbconvert_exporter": "python",
   "pygments_lexer": "ipython3",
   "version": "3.6.4"
  }
 },
 "nbformat": 4,
 "nbformat_minor": 2
}
