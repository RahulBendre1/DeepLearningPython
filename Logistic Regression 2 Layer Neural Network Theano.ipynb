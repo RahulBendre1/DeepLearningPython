{
 "cells": [
  {
   "cell_type": "code",
   "execution_count": 29,
   "metadata": {},
   "outputs": [],
   "source": [
    "# Import libraries\n",
    "import theano\n",
    "import theano.tensor as T\n",
    "import sklearn.metrics\n",
    "import numpy as np"
   ]
  },
  {
   "cell_type": "code",
   "execution_count": 30,
   "metadata": {},
   "outputs": [],
   "source": [
    "# Regularization\n",
    "def L2(x):\n",
    "    return T.sum(x**2)\n",
    "\n",
    "def L1(x):\n",
    "    return T.sum(abs(x))"
   ]
  },
  {
   "cell_type": "code",
   "execution_count": 31,
   "metadata": {},
   "outputs": [],
   "source": [
    "# Examples, features and hidden neurons\n",
    "examples = 1000\n",
    "features = 100\n",
    "hidden = 2"
   ]
  },
  {
   "cell_type": "code",
   "execution_count": 32,
   "metadata": {},
   "outputs": [],
   "source": [
    "# Create dataset\n",
    "D = (\n",
    "np.random.randn(examples,features),\n",
    "    np.random.randint(size = examples,\n",
    "                     low = 0,\n",
    "                     high = 2\n",
    "                     )\n",
    ")"
   ]
  },
  {
   "cell_type": "code",
   "execution_count": 33,
   "metadata": {},
   "outputs": [],
   "source": [
    "# Training steps\n",
    "training_steps = 10000\n",
    "# Learning rate\n",
    "learning_rate = 0.1\n",
    "# Regularization\n",
    "lambda_reg = 0.01"
   ]
  },
  {
   "cell_type": "code",
   "execution_count": 34,
   "metadata": {},
   "outputs": [],
   "source": [
    "# Create feature matrix\n",
    "x = T.dmatrix('x')\n",
    "# Create label vector\n",
    "y = T.dvector('y')\n",
    "\n",
    "# Create weight matrix layer 1\n",
    "w1 = theano.shared(\n",
    "np.random.randn(features, hidden),\n",
    "    name = 'w1'\n",
    ")\n",
    "# Create bias for layer 1\n",
    "b1 = theano.shared(\n",
    "np.random.randn(hidden), name = 'b1'\n",
    ")\n",
    "\n",
    "# Create weight matrix layer 2\n",
    "w2 = theano.shared(\n",
    "np.random.randn(hidden), name = 'w2'\n",
    ")\n",
    "# Create bias for layer 2\n",
    "b2 = theano.shared(0., name = 'b2')\n",
    "\n",
    "# Create activation functions\n",
    "p1 = T.tanh(T.dot(x,w1)+b1)\n",
    "p2 = T.tanh(T.dot(p1, w2)+b2)\n",
    "\n",
    "# Prediction\n",
    "prediction = p2 > 0.5\n",
    "\n",
    "# Error\n",
    "error = T.nnet.binary_crossentropy(p2,y)\n",
    "\n",
    "# Loss\n",
    "loss = error.mean() + lambda_reg * (\n",
    "(L2(w2) + L2(w1) + L1(w1) + L1(w2))\n",
    ")\n",
    "\n",
    "# Gradients\n",
    "gw1,gb1,gw2,gb2 = T.grad(loss, [w1,b1,w2,b2])"
   ]
  },
  {
   "cell_type": "code",
   "execution_count": 35,
   "metadata": {},
   "outputs": [],
   "source": [
    "# Training function\n",
    "train = theano.function(\n",
    "inputs = [x,y], outputs = [p2,error],\n",
    "    updates = ((w1,w1 - learning_rate*gw1),\n",
    "              (b1, b1 - learning_rate*gb1),\n",
    "              (w2, w2 - learning_rate*gw2),\n",
    "              (b2, b2 - learning_rate*gb2)\n",
    "              )\n",
    ")\n",
    "\n",
    "# Prediction function\n",
    "predict = theano.function(\n",
    "inputs = [x], outputs = prediction\n",
    ")"
   ]
  },
  {
   "cell_type": "code",
   "execution_count": 36,
   "metadata": {},
   "outputs": [
    {
     "name": "stdout",
     "output_type": "stream",
     "text": [
      "Accuracy before training = 0.487\n"
     ]
    }
   ],
   "source": [
    "# Display pre training accuracy\n",
    "print(\"Accuracy before training = {}\".format(\n",
    "sklearn.metrics.accuracy_score(D[1],\n",
    "                              np.array(predict(D[0])).ravel())\n",
    "))"
   ]
  },
  {
   "cell_type": "code",
   "execution_count": 39,
   "metadata": {},
   "outputs": [],
   "source": [
    "# Train network\n",
    "for i in range(training_steps):\n",
    "    prediction, error = train(D[0],D[1])"
   ]
  },
  {
   "cell_type": "code",
   "execution_count": 40,
   "metadata": {},
   "outputs": [
    {
     "name": "stdout",
     "output_type": "stream",
     "text": [
      "Accuracy after training = 0.524\n"
     ]
    }
   ],
   "source": [
    "# Display post training accuracy\n",
    "print(\"Accuracy after training = {}\".format(\n",
    "sklearn.metrics.accuracy_score(D[1],\n",
    "                              np.array(predict(D[0])).ravel())\n",
    "))"
   ]
  },
  {
   "cell_type": "code",
   "execution_count": null,
   "metadata": {},
   "outputs": [],
   "source": []
  }
 ],
 "metadata": {
  "kernelspec": {
   "display_name": "Python 3",
   "language": "python",
   "name": "python3"
  },
  "language_info": {
   "codemirror_mode": {
    "name": "ipython",
    "version": 3
   },
   "file_extension": ".py",
   "mimetype": "text/x-python",
   "name": "python",
   "nbconvert_exporter": "python",
   "pygments_lexer": "ipython3",
   "version": "3.6.4"
  }
 },
 "nbformat": 4,
 "nbformat_minor": 2
}
