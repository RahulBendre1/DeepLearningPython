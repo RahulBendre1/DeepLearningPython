{
 "cells": [
  {
   "cell_type": "code",
   "execution_count": 2,
   "metadata": {},
   "outputs": [],
   "source": [
    "# Import modules\n",
    "import theano.tensor as T\n",
    "from theano import function\n",
    "from theano import shared\n",
    "import numpy as np"
   ]
  },
  {
   "cell_type": "code",
   "execution_count": 3,
   "metadata": {},
   "outputs": [],
   "source": [
    "# Define variables\n",
    "x = T.dmatrix('x')\n",
    "y = shared(np.array([[4,5,6]]))\n",
    "z = T.sum(((x*x)+y)*x)"
   ]
  },
  {
   "cell_type": "code",
   "execution_count": 4,
   "metadata": {},
   "outputs": [],
   "source": [
    "# Define function\n",
    "f = function([x],[z])"
   ]
  },
  {
   "cell_type": "code",
   "execution_count": 5,
   "metadata": {},
   "outputs": [],
   "source": [
    "# Gradient\n",
    "g = T.grad(z,[x])\n",
    "g_f = function([x],g)"
   ]
  },
  {
   "cell_type": "code",
   "execution_count": 6,
   "metadata": {},
   "outputs": [
    {
     "name": "stdout",
     "output_type": "stream",
     "text": [
      "Original = [array(68.0)]\n",
      "Original gradient = [array([[  7.,  17.,  33.]])]\n"
     ]
    }
   ],
   "source": [
    "# Display data\n",
    "print(\"Original = {}\".format(f([[1,2,3]])))\n",
    "print(\"Original gradient = {}\".format(g_f([[1,2,3]])))"
   ]
  },
  {
   "cell_type": "code",
   "execution_count": 7,
   "metadata": {},
   "outputs": [],
   "source": [
    "# Revise y value\n",
    "y.set_value(np.array([[1,1,1]]))"
   ]
  },
  {
   "cell_type": "code",
   "execution_count": 8,
   "metadata": {},
   "outputs": [
    {
     "name": "stdout",
     "output_type": "stream",
     "text": [
      "Original = [array(42.0)]\n",
      "Original gradient = [array([[  4.,  13.,  28.]])]\n"
     ]
    }
   ],
   "source": [
    "# Display data\n",
    "print(\"Original = {}\".format(f([[1,2,3]])))\n",
    "print(\"Original gradient = {}\".format(g_f([[1,2,3]])))"
   ]
  },
  {
   "cell_type": "code",
   "execution_count": null,
   "metadata": {},
   "outputs": [],
   "source": []
  }
 ],
 "metadata": {
  "kernelspec": {
   "display_name": "Python 3",
   "language": "python",
   "name": "python3"
  },
  "language_info": {
   "codemirror_mode": {
    "name": "ipython",
    "version": 3
   },
   "file_extension": ".py",
   "mimetype": "text/x-python",
   "name": "python",
   "nbconvert_exporter": "python",
   "pygments_lexer": "ipython3",
   "version": "3.6.4"
  }
 },
 "nbformat": 4,
 "nbformat_minor": 2
}
