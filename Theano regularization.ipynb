{
 "cells": [
  {
   "cell_type": "code",
   "execution_count": 1,
   "metadata": {},
   "outputs": [],
   "source": [
    "# Import modules\n",
    "import theano.tensor as T\n",
    "from theano import function"
   ]
  },
  {
   "cell_type": "code",
   "execution_count": 2,
   "metadata": {},
   "outputs": [],
   "source": [
    "# L1 Regularization\n",
    "def L1(x):\n",
    "    return T.sum(abs(x))"
   ]
  },
  {
   "cell_type": "code",
   "execution_count": 3,
   "metadata": {},
   "outputs": [],
   "source": [
    "# L2 Regularization\n",
    "def L2(x):\n",
    "    return T.sum(x**2)"
   ]
  },
  {
   "cell_type": "code",
   "execution_count": 4,
   "metadata": {},
   "outputs": [],
   "source": [
    "# Create matrix\n",
    "a = T.dmatrix('a')\n",
    "b = T.dmatrix('b')"
   ]
  },
  {
   "cell_type": "code",
   "execution_count": 7,
   "metadata": {},
   "outputs": [],
   "source": [
    "# Create functions\n",
    "f_a = L1(a)\n",
    "f_b = L2(b)\n",
    "f_L1 = function([a],[f_a])\n",
    "f_L2 = function([b],[f_b])"
   ]
  },
  {
   "cell_type": "code",
   "execution_count": 8,
   "metadata": {},
   "outputs": [
    {
     "name": "stdout",
     "output_type": "stream",
     "text": [
      "L1 regularization = [array(4.0)]\n",
      "L2 regularization = [array(10.0)]\n"
     ]
    }
   ],
   "source": [
    "# Display output\n",
    "print(\"L1 regularization = {}\".format(\n",
    "f_L1([[0,1,3]])\n",
    "))\n",
    "\n",
    "print(\"L2 regularization = {}\".format(\n",
    "f_L2([[0,1,3]])\n",
    "))"
   ]
  },
  {
   "cell_type": "code",
   "execution_count": null,
   "metadata": {},
   "outputs": [],
   "source": []
  }
 ],
 "metadata": {
  "kernelspec": {
   "display_name": "Python 3",
   "language": "python",
   "name": "python3"
  },
  "language_info": {
   "codemirror_mode": {
    "name": "ipython",
    "version": 3
   },
   "file_extension": ".py",
   "mimetype": "text/x-python",
   "name": "python",
   "nbconvert_exporter": "python",
   "pygments_lexer": "ipython3",
   "version": "3.6.4"
  }
 },
 "nbformat": 4,
 "nbformat_minor": 2
}
