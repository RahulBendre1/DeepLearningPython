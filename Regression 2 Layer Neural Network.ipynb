{
 "cells": [
  {
   "cell_type": "code",
   "execution_count": 1,
   "metadata": {},
   "outputs": [],
   "source": [
    "import autograd.numpy as np\n",
    "import autograd.numpy.random as npr\n",
    "from autograd import grad\n",
    "import sklearn.metrics\n",
    "import pylab"
   ]
  },
  {
   "cell_type": "code",
   "execution_count": 2,
   "metadata": {},
   "outputs": [],
   "source": [
    "# Generate dataset\n",
    "examples = 1000\n",
    "features = 100\n",
    "D = (npr.randn(examples,features),npr.randn(examples))"
   ]
  },
  {
   "cell_type": "code",
   "execution_count": 3,
   "metadata": {},
   "outputs": [],
   "source": [
    "# Specify the network\n",
    "layer1_units = 10\n",
    "layer2_units = 1\n",
    "w1 = npr.rand(features, layer1_units)\n",
    "b1 = npr.rand(layer1_units)\n",
    "w2 = npr.rand(layer1_units,layer2_units)\n",
    "b2 = npr.rand(layer2_units)\n",
    "theta = (w1,b1,w2,b2)"
   ]
  },
  {
   "cell_type": "code",
   "execution_count": 4,
   "metadata": {},
   "outputs": [],
   "source": [
    "# Define the loss function\n",
    "def squared_loss(y, yhat):\n",
    "    return np.dot(\n",
    "    (y-yhat),(y-yhat)\n",
    "    )"
   ]
  },
  {
   "cell_type": "code",
   "execution_count": 5,
   "metadata": {},
   "outputs": [],
   "source": [
    "# Define binary cross entropy\n",
    "def binary_cross_entropy(y,yhat):\n",
    "    return -1 * np.sum(\n",
    "    (y*np.log(yhat)) + ((1-y)*np.log(1-yhat))\n",
    "    )"
   ]
  },
  {
   "cell_type": "code",
   "execution_count": 6,
   "metadata": {},
   "outputs": [],
   "source": [
    "# Create Neural Network wrapper\n",
    "def neural_network(x, theta):\n",
    "    w1,b1,w2,b2 = theta\n",
    "    return np.tanh(\n",
    "    np.dot(\n",
    "    np.tanh(\n",
    "    np.dot(x,w1)+b1\n",
    "    ),w2\n",
    "    )\n",
    "        + b2\n",
    "    )"
   ]
  },
  {
   "cell_type": "code",
   "execution_count": 7,
   "metadata": {},
   "outputs": [],
   "source": [
    "# Wrapper around the objective function to be optimized\n",
    "def objective_function(theta, idx):\n",
    "    return squared_loss(\n",
    "    D[1][idx], neural_network(D[0][idx],theta)\n",
    "    )"
   ]
  },
  {
   "cell_type": "code",
   "execution_count": 8,
   "metadata": {},
   "outputs": [],
   "source": [
    "# Update theta values\n",
    "def update_theta(theta,delta,eta):\n",
    "    w1,b1,w2,b2 = theta\n",
    "    w1_delta,b1_delta,w2_delta,b2_delta = delta\n",
    "    w1_new = w1 - eta * w1_delta\n",
    "    b1_new = b1 - eta * b1_delta\n",
    "    w2_new = w2 - eta * w2_delta\n",
    "    b2_new = b2 - eta * b2_delta\n",
    "    new_theta = (\n",
    "    w1_new, b1_new,\n",
    "        w2_new, b2_new\n",
    "    )\n",
    "    return new_theta"
   ]
  },
  {
   "cell_type": "code",
   "execution_count": 9,
   "metadata": {},
   "outputs": [],
   "source": [
    "# Compute gradient\n",
    "grad_objective = grad(objective_function)"
   ]
  },
  {
   "cell_type": "code",
   "execution_count": 13,
   "metadata": {},
   "outputs": [
    {
     "name": "stdout",
     "output_type": "stream",
     "text": [
      "RMSE before training: 0.3795\n"
     ]
    },
    {
     "data": {
      "image/png": "[encoded data removed]",
      "text/plain": [
       "<matplotlib.figure.Figure at 0x7e4089f080>"
      ]
     },
     "metadata": {},
     "output_type": "display_data"
    }
   ],
   "source": [
    "# Train the neural network\n",
    "epochs = 500\n",
    "learningRate = 0.01\n",
    "print(\"RMSE before training: {:.4}\".format(\n",
    "sklearn.metrics.mean_squared_error(D[1],neural_network(\n",
    "D[0],theta))\n",
    "))\n",
    "#rmse = []\n",
    "for i in range(epochs):\n",
    "    for j in range(examples):\n",
    "        delta = grad_objective(theta,j)\n",
    "        theta = update_theta(theta,delta, learningRate)\n",
    "        rmse.append(sklearn.metrics.mean_squared_error(\n",
    "        D[1],neural_network(\n",
    "        D[0],theta)))\n",
    "\n",
    "pylab.plot(rmse)\n",
    "pylab.show()"
   ]
  },
  {
   "cell_type": "code",
   "execution_count": 14,
   "metadata": {},
   "outputs": [
    {
     "name": "stdout",
     "output_type": "stream",
     "text": [
      "RMSE after training: 0.3354\n"
     ]
    }
   ],
   "source": [
    "print(\"RMSE after training: {:.4}\".format(sklearn.metrics.mean_squared_error(D[1],neural_network(\n",
    "D[0],theta))))"
   ]
  },
  {
   "cell_type": "code",
   "execution_count": null,
   "metadata": {},
   "outputs": [],
   "source": []
  }
 ],
 "metadata": {
  "kernelspec": {
   "display_name": "Python 3",
   "language": "python",
   "name": "python3"
  },
  "language_info": {
   "codemirror_mode": {
    "name": "ipython",
    "version": 3
   },
   "file_extension": ".py",
   "mimetype": "text/x-python",
   "name": "python",
   "nbconvert_exporter": "python",
   "pygments_lexer": "ipython3",
   "version": "3.6.4"
  }
 },
 "nbformat": 4,
 "nbformat_minor": 2
}
