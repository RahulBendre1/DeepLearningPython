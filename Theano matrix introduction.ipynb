{
 "cells": [
  {
   "cell_type": "code",
   "execution_count": 6,
   "metadata": {},
   "outputs": [],
   "source": [
    "# Import modules\n",
    "import theano.tensor as T\n",
    "from theano import function\n",
    "import numpy as np"
   ]
  },
  {
   "cell_type": "code",
   "execution_count": 4,
   "metadata": {},
   "outputs": [],
   "source": [
    "# Define matrices\n",
    "a = T.dmatrix('a')\n",
    "b = T.dmatrix('b')\n",
    "c = T.dmatrix('c')\n",
    "d = T.dmatrix('d')"
   ]
  },
  {
   "cell_type": "code",
   "execution_count": 5,
   "metadata": {},
   "outputs": [],
   "source": [
    "# Define function\n",
    "e = (a+b-c)*d\n",
    "f = function([a,b,c,d],e)"
   ]
  },
  {
   "cell_type": "code",
   "execution_count": 7,
   "metadata": {},
   "outputs": [],
   "source": [
    "# Data\n",
    "a_data = np.array([\n",
    "    [1,1],\n",
    "    [1,1]\n",
    "])\n",
    "b_data = np.array([\n",
    "    [2,2],\n",
    "    [2,2]\n",
    "])\n",
    "c_data = np.array([\n",
    "    [5,5],\n",
    "    [5,5]\n",
    "])\n",
    "d_data = np.array([\n",
    "    [3,3],\n",
    "    [3,3]\n",
    "])"
   ]
  },
  {
   "cell_type": "code",
   "execution_count": 8,
   "metadata": {},
   "outputs": [
    {
     "name": "stdout",
     "output_type": "stream",
     "text": [
      "Expected answer = [[-6 -6]\n",
      " [-6 -6]]\n",
      "Theano answer = [[-6. -6.]\n",
      " [-6. -6.]]\n"
     ]
    }
   ],
   "source": [
    "# Display result\n",
    "print(\"Expected answer = {}\".format(\n",
    "(a_data + b_data - c_data) * d_data\n",
    "))\n",
    "print(\"Theano answer = {}\".format(\n",
    "f(a_data,b_data,c_data,d_data)\n",
    "))"
   ]
  },
  {
   "cell_type": "code",
   "execution_count": null,
   "metadata": {},
   "outputs": [],
   "source": []
  }
 ],
 "metadata": {
  "kernelspec": {
   "display_name": "Python 3",
   "language": "python",
   "name": "python3"
  },
  "language_info": {
   "codemirror_mode": {
    "name": "ipython",
    "version": 3
   },
   "file_extension": ".py",
   "mimetype": "text/x-python",
   "name": "python",
   "nbconvert_exporter": "python",
   "pygments_lexer": "ipython3",
   "version": "3.6.4"
  }
 },
 "nbformat": 4,
 "nbformat_minor": 2
}
