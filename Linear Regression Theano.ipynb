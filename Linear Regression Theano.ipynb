{
 "cells": [
  {
   "cell_type": "code",
   "execution_count": 1,
   "metadata": {},
   "outputs": [],
   "source": [
    "# Import modules\n",
    "import numpy as np\n",
    "import theano\n",
    "import theano.tensor as T\n",
    "import sklearn.metrics"
   ]
  },
  {
   "cell_type": "code",
   "execution_count": 2,
   "metadata": {},
   "outputs": [],
   "source": [
    "# L2 regularization\n",
    "def L2(x):\n",
    "    return T.sum(x**2)\n",
    "\n",
    "# L1 regularization\n",
    "def L1(x):\n",
    "    return T.sum(abs(x))\n"
   ]
  },
  {
   "cell_type": "code",
   "execution_count": 3,
   "metadata": {},
   "outputs": [],
   "source": [
    "# Squared error\n",
    "def squared_error(x,y):\n",
    "    return (x-y)**2\n"
   ]
  },
  {
   "cell_type": "code",
   "execution_count": 4,
   "metadata": {},
   "outputs": [],
   "source": [
    "# Examples and features\n",
    "examples = 1000\n",
    "features = 100"
   ]
  },
  {
   "cell_type": "code",
   "execution_count": 5,
   "metadata": {},
   "outputs": [],
   "source": [
    "# Generate random dataset\n",
    "D = (\n",
    "np.random.randn(examples,features),\n",
    "    np.random.randn(examples)\n",
    ")"
   ]
  },
  {
   "cell_type": "code",
   "execution_count": 10,
   "metadata": {},
   "outputs": [],
   "source": [
    "# Training steps\n",
    "training_steps = 1000\n",
    "# Learning rate\n",
    "learning_rate = 0.01\n",
    "# Regularization\n",
    "lambda_reg = 0.01"
   ]
  },
  {
   "cell_type": "code",
   "execution_count": 14,
   "metadata": {},
   "outputs": [],
   "source": [
    "# Create feature matrix\n",
    "x = T.dmatrix('x')\n",
    "# Create label vector\n",
    "y = T.dvector('y')\n",
    "# Create weight matrix\n",
    "w = theano.shared(\n",
    "np.random.randn(features), name = 'w'\n",
    ")\n",
    "# Create bias\n",
    "b = theano.shared(0., name='b')"
   ]
  },
  {
   "cell_type": "code",
   "execution_count": 15,
   "metadata": {},
   "outputs": [],
   "source": [
    "p = T.dot(x,w)+b\n",
    "error = squared_error(p,y)\n",
    "loss = error.mean() + lambda_reg * (L1(w) + L2(w))\n",
    "gw, gb = T.grad(loss,[w,b])"
   ]
  },
  {
   "cell_type": "code",
   "execution_count": 16,
   "metadata": {},
   "outputs": [],
   "source": [
    "# Define train function\n",
    "train = theano.function(\n",
    "inputs = [x,y], outputs=[p,error],\n",
    "    updates=((w,w-learning_rate*gw),\n",
    "            (b,b-learning_rate*gb))\n",
    ")"
   ]
  },
  {
   "cell_type": "code",
   "execution_count": 17,
   "metadata": {},
   "outputs": [],
   "source": [
    "# Define prediction function\n",
    "predict = theano.function(\n",
    "inputs = [x], outputs = p\n",
    ")"
   ]
  },
  {
   "cell_type": "code",
   "execution_count": 18,
   "metadata": {},
   "outputs": [
    {
     "name": "stdout",
     "output_type": "stream",
     "text": [
      "RMSE before training = 121.86524785202491\n"
     ]
    }
   ],
   "source": [
    "# Display pre-training RMSE\n",
    "print(\"RMSE before training = {}\".format(\n",
    "sklearn.metrics.mean_squared_error(D[1],predict(D[0]))\n",
    "))"
   ]
  },
  {
   "cell_type": "code",
   "execution_count": 19,
   "metadata": {},
   "outputs": [],
   "source": [
    "# Train the network\n",
    "for i in range(training_steps):\n",
    "    prediction,error = train(D[0],D[1])\n"
   ]
  },
  {
   "cell_type": "code",
   "execution_count": 20,
   "metadata": {},
   "outputs": [
    {
     "name": "stdout",
     "output_type": "stream",
     "text": [
      "RMSE after training = 0.8731121092377444\n"
     ]
    }
   ],
   "source": [
    "# Display post-training RMSE\n",
    "print(\"RMSE after training = {}\".format(\n",
    "sklearn.metrics.mean_squared_error(D[1],predict(D[0])))\n",
    ")"
   ]
  },
  {
   "cell_type": "code",
   "execution_count": null,
   "metadata": {},
   "outputs": [],
   "source": []
  }
 ],
 "metadata": {
  "kernelspec": {
   "display_name": "Python 3",
   "language": "python",
   "name": "python3"
  },
  "language_info": {
   "codemirror_mode": {
    "name": "ipython",
    "version": 3
   },
   "file_extension": ".py",
   "mimetype": "text/x-python",
   "name": "python",
   "nbconvert_exporter": "python",
   "pygments_lexer": "ipython3",
   "version": "3.6.4"
  }
 },
 "nbformat": 4,
 "nbformat_minor": 2
}
