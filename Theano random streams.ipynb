{
 "cells": [
  {
   "cell_type": "code",
   "execution_count": 2,
   "metadata": {},
   "outputs": [],
   "source": [
    "# Import modules\n",
    "import theano.tensor as T\n",
    "from theano import function\n",
    "from theano.tensor.shared_randomstreams import RandomStreams\n",
    "import numpy as np"
   ]
  },
  {
   "cell_type": "code",
   "execution_count": 3,
   "metadata": {},
   "outputs": [],
   "source": [
    "# Create a random stream\n",
    "random = RandomStreams(seed=73)"
   ]
  },
  {
   "cell_type": "code",
   "execution_count": 4,
   "metadata": {},
   "outputs": [],
   "source": [
    "# Create random variable\n",
    "a = random.normal((1,3))\n",
    "# Create a variable\n",
    "b = T.dmatrix('b')"
   ]
  },
  {
   "cell_type": "code",
   "execution_count": 5,
   "metadata": {},
   "outputs": [],
   "source": [
    "# Create a function\n",
    "f = a*b\n",
    "g = function([b],[f])"
   ]
  },
  {
   "cell_type": "code",
   "execution_count": 6,
   "metadata": {},
   "outputs": [
    {
     "name": "stdout",
     "output_type": "stream",
     "text": [
      "Printing results from 3 invocations:\n",
      "Result 1 = [array([[ 0.08650225, -0.50998148,  0.20739433]])]\n",
      "Result 2 = [array([[-0.3931098 , -0.28691165, -0.73570527]])]\n",
      "Result 3 = [array([[ 0.33905656, -0.18163603, -0.13118739]])]\n"
     ]
    }
   ],
   "source": [
    "# Display results\n",
    "print(\"Printing results from 3 invocations:\")\n",
    "print(\"Result 1 = {}\".format(g(np.ones((1,3)))))\n",
    "print(\"Result 2 = {}\".format(g(np.ones((1,3)))))\n",
    "print(\"Result 3 = {}\".format(g(np.ones((1,3)))))"
   ]
  },
  {
   "cell_type": "code",
   "execution_count": null,
   "metadata": {},
   "outputs": [],
   "source": []
  }
 ],
 "metadata": {
  "kernelspec": {
   "display_name": "Python 3",
   "language": "python",
   "name": "python3"
  },
  "language_info": {
   "codemirror_mode": {
    "name": "ipython",
    "version": 3
   },
   "file_extension": ".py",
   "mimetype": "text/x-python",
   "name": "python",
   "nbconvert_exporter": "python",
   "pygments_lexer": "ipython3",
   "version": "3.6.4"
  }
 },
 "nbformat": 4,
 "nbformat_minor": 2
}
