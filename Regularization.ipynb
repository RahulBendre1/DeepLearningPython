{
 "cells": [
  {
   "cell_type": "code",
   "execution_count": 36,
   "metadata": {},
   "outputs": [],
   "source": [
    "# Import modules\n",
    "import pylab\n",
    "import numpy as np"
   ]
  },
  {
   "cell_type": "code",
   "execution_count": 37,
   "metadata": {},
   "outputs": [],
   "source": [
    "x = np.linspace(-1,1,100)\n",
    "signal = 2 + x + 2*x*x\n",
    "noise  = np.random.normal(0,0.1,100)\n",
    "y = signal+noise"
   ]
  },
  {
   "cell_type": "code",
   "execution_count": 46,
   "metadata": {},
   "outputs": [],
   "source": [
    "x_train = x[0:80]\n",
    "y_train = y[0:80]"
   ]
  },
  {
   "cell_type": "code",
   "execution_count": 47,
   "metadata": {},
   "outputs": [],
   "source": [
    "train_rmse= []\n",
    "test_rmse = []\n",
    "degree = 80\n",
    "lambda_reg_values = np.linspace(0.01,0.99,100)\n"
   ]
  },
  {
   "cell_type": "code",
   "execution_count": 48,
   "metadata": {},
   "outputs": [],
   "source": [
    "for lambda_reg in lambda_reg_values:\n",
    "    x_train = np.column_stack([np.power(x[0:80],i) for i in range(degree)])\n",
    "    model = np.dot(\n",
    "    np.dot(\n",
    "    np.linalg.inv(\n",
    "    np.dot(\n",
    "    x_train.transpose(), x_train\n",
    "    ) + lambda_reg * np.identity(degree)\n",
    "    ), x_train.transpose()\n",
    "    ),\n",
    "    y_train\n",
    "    )\n",
    "    predicted = np.dot(model, [np.power(x,i) for i in range(degree)])\n",
    "    train_rmse.append(\n",
    "        np.sqrt(\n",
    "            np.sum(\n",
    "                np.dot(\n",
    "                    y[0:80]-predicted[0:80],\n",
    "                                           y_train - predicted[0:80])\n",
    "                                    )\n",
    "                             )\n",
    "                     )\n",
    "    test_rmse.append(\n",
    "        np.sqrt(\n",
    "        np.sum(\n",
    "        np.dot(\n",
    "            y[80:]-predicted[80:],\n",
    "            y[80:]-predicted[80:]\n",
    "        )\n",
    "        )\n",
    "        )\n",
    "    )"
   ]
  },
  {
   "cell_type": "code",
   "execution_count": 49,
   "metadata": {},
   "outputs": [
    {
     "data": {
      "text/plain": [
       "<matplotlib.legend.Legend at 0xcb80091048>"
      ]
     },
     "execution_count": 49,
     "metadata": {},
     "output_type": "execute_result"
    },
    {
     "data": {
      "image/png": "[encoded data removed]",
      "text/plain": [
       "<matplotlib.figure.Figure at 0xcb80011d30>"
      ]
     },
     "metadata": {},
     "output_type": "display_data"
    }
   ],
   "source": [
    "pylab.plot(lambda_reg_values,train_rmse)\n",
    "pylab.plot(lambda_reg_values,test_rmse)\n",
    "pylab.xlabel(r\"$\\lambda$\")\n",
    "pylab.ylabel(\"RMSE\")\n",
    "pylab.legend([\"Train\",\"Test\"],loc=2)"
   ]
  },
  {
   "cell_type": "code",
   "execution_count": null,
   "metadata": {},
   "outputs": [],
   "source": []
  }
 ],
 "metadata": {
  "kernelspec": {
   "display_name": "Python 3",
   "language": "python",
   "name": "python3"
  },
  "language_info": {
   "codemirror_mode": {
    "name": "ipython",
    "version": 3
   },
   "file_extension": ".py",
   "mimetype": "text/x-python",
   "name": "python",
   "nbconvert_exporter": "python",
   "pygments_lexer": "ipython3",
   "version": "3.6.4"
  }
 },
 "nbformat": 4,
 "nbformat_minor": 2
}
