{
 "cells": [
  {
   "cell_type": "code",
   "execution_count": 1,
   "metadata": {},
   "outputs": [
    {
     "name": "stderr",
     "output_type": "stream",
     "text": [
      "Using TensorFlow backend.\n"
     ]
    }
   ],
   "source": [
    "# Import modules\n",
    "import numpy as np\n",
    "from keras.models import Sequential\n",
    "from keras.layers import Dense, Activation\n",
    "from keras.utils.vis_utils import plot_model"
   ]
  },
  {
   "cell_type": "code",
   "execution_count": 2,
   "metadata": {},
   "outputs": [],
   "source": [
    "# Initialize model\n",
    "model = Sequential()\n",
    "# Add layers to the model\n",
    "model.add(Dense(1, input_dim = 500))\n",
    "model.add(Activation(activation='sigmoid'))\n",
    "# Compile model\n",
    "model.compile(optimizer='rmsprop',\n",
    "             loss = 'binary_crossentropy',\n",
    "             metrics=['accuracy'])"
   ]
  },
  {
   "cell_type": "code",
   "execution_count": 3,
   "metadata": {},
   "outputs": [],
   "source": [
    "# Generate data\n",
    "data = np.random.random((1000,500))\n",
    "labels = np.random.randint(2, size = (1000,1))"
   ]
  },
  {
   "cell_type": "code",
   "execution_count": 4,
   "metadata": {},
   "outputs": [
    {
     "name": "stdout",
     "output_type": "stream",
     "text": [
      "1000/1000 [==============================] - 9s 9ms/step\n"
     ]
    }
   ],
   "source": [
    "score = model.evaluate(data,labels,verbose=1)"
   ]
  },
  {
   "cell_type": "code",
   "execution_count": 5,
   "metadata": {},
   "outputs": [
    {
     "name": "stdout",
     "output_type": "stream",
     "text": [
      "Before training: [('loss', 0.89666854953765873), ('acc', 0.48899999999999999)]\n"
     ]
    }
   ],
   "source": [
    "# Print score before training\n",
    "print(\"Before training: {}\".format(\n",
    "list(zip(model.metrics_names,score))\n",
    "))"
   ]
  },
  {
   "cell_type": "code",
   "execution_count": 6,
   "metadata": {},
   "outputs": [
    {
     "name": "stdout",
     "output_type": "stream",
     "text": [
      "Epoch 1/100\n",
      "1000/1000 [==============================] - 3s 3ms/step - loss: 0.7341 - acc: 0.4900\n",
      "Epoch 2/100\n",
      "1000/1000 [==============================] - 0s 69us/step - loss: 0.7197 - acc: 0.4780\n",
      "Epoch 3/100\n",
      "1000/1000 [==============================] - 0s 92us/step - loss: 0.7143 - acc: 0.4980\n",
      "Epoch 4/100\n",
      "1000/1000 [==============================] - 0s 80us/step - loss: 0.7101 - acc: 0.5190\n",
      "Epoch 5/100\n",
      "1000/1000 [==============================] - 0s 75us/step - loss: 0.7022 - acc: 0.5270\n",
      "Epoch 6/100\n",
      "1000/1000 [==============================] - 0s 64us/step - loss: 0.6955 - acc: 0.5260\n",
      "Epoch 7/100\n",
      "1000/1000 [==============================] - 0s 60us/step - loss: 0.6932 - acc: 0.5400\n",
      "Epoch 8/100\n",
      "1000/1000 [==============================] - 0s 56us/step - loss: 0.6821 - acc: 0.5570\n",
      "Epoch 9/100\n",
      "1000/1000 [==============================] - ETA: 0s - loss: 0.6831 - acc: 0.571 - 0s 77us/step - loss: 0.6820 - acc: 0.5730\n",
      "Epoch 10/100\n",
      "1000/1000 [==============================] - 0s 55us/step - loss: 0.6713 - acc: 0.5770\n",
      "Epoch 11/100\n",
      "1000/1000 [==============================] - 0s 84us/step - loss: 0.6697 - acc: 0.5830\n",
      "Epoch 12/100\n",
      "1000/1000 [==============================] - 0s 87us/step - loss: 0.6675 - acc: 0.5910\n",
      "Epoch 13/100\n",
      "1000/1000 [==============================] - 0s 90us/step - loss: 0.6590 - acc: 0.6090\n",
      "Epoch 14/100\n",
      "1000/1000 [==============================] - 0s 69us/step - loss: 0.6527 - acc: 0.6060\n",
      "Epoch 15/100\n",
      "1000/1000 [==============================] - 0s 89us/step - loss: 0.6499 - acc: 0.6210\n",
      "Epoch 16/100\n",
      "1000/1000 [==============================] - 0s 68us/step - loss: 0.6468 - acc: 0.6230\n",
      "Epoch 17/100\n",
      "1000/1000 [==============================] - 0s 88us/step - loss: 0.6407 - acc: 0.6250\n",
      "Epoch 18/100\n",
      "1000/1000 [==============================] - 0s 79us/step - loss: 0.6341 - acc: 0.6330\n",
      "Epoch 19/100\n",
      "1000/1000 [==============================] - 0s 52us/step - loss: 0.6328 - acc: 0.6510\n",
      "Epoch 20/100\n",
      "1000/1000 [==============================] - 0s 81us/step - loss: 0.6260 - acc: 0.6510\n",
      "Epoch 21/100\n",
      "1000/1000 [==============================] - 0s 74us/step - loss: 0.6266 - acc: 0.6660\n",
      "Epoch 22/100\n",
      "1000/1000 [==============================] - 0s 66us/step - loss: 0.6238 - acc: 0.6670\n",
      "Epoch 23/100\n",
      "1000/1000 [==============================] - 0s 59us/step - loss: 0.6193 - acc: 0.6770\n",
      "Epoch 24/100\n",
      "1000/1000 [==============================] - 0s 46us/step - loss: 0.6165 - acc: 0.6740\n",
      "Epoch 25/100\n",
      "1000/1000 [==============================] - 0s 67us/step - loss: 0.6158 - acc: 0.6850\n",
      "Epoch 26/100\n",
      "1000/1000 [==============================] - 0s 58us/step - loss: 0.6102 - acc: 0.6850\n",
      "Epoch 27/100\n",
      "1000/1000 [==============================] - 0s 59us/step - loss: 0.6085 - acc: 0.6870\n",
      "Epoch 28/100\n",
      "1000/1000 [==============================] - 0s 67us/step - loss: 0.5961 - acc: 0.6980\n",
      "Epoch 29/100\n",
      "1000/1000 [==============================] - 0s 63us/step - loss: 0.6033 - acc: 0.6810\n",
      "Epoch 30/100\n",
      "1000/1000 [==============================] - 0s 62us/step - loss: 0.5984 - acc: 0.7010\n",
      "Epoch 31/100\n",
      "1000/1000 [==============================] - 0s 62us/step - loss: 0.5946 - acc: 0.7050\n",
      "Epoch 32/100\n",
      "1000/1000 [==============================] - 0s 95us/step - loss: 0.5910 - acc: 0.7120\n",
      "Epoch 33/100\n",
      "1000/1000 [==============================] - 0s 88us/step - loss: 0.5896 - acc: 0.7240\n",
      "Epoch 34/100\n",
      "1000/1000 [==============================] - 0s 82us/step - loss: 0.5827 - acc: 0.7210\n",
      "Epoch 35/100\n",
      "1000/1000 [==============================] - 0s 59us/step - loss: 0.5860 - acc: 0.7250\n",
      "Epoch 36/100\n",
      "1000/1000 [==============================] - 0s 76us/step - loss: 0.5776 - acc: 0.7330\n",
      "Epoch 37/100\n",
      "1000/1000 [==============================] - 0s 39us/step - loss: 0.5767 - acc: 0.7300\n",
      "Epoch 38/100\n",
      "1000/1000 [==============================] - 0s 40us/step - loss: 0.5728 - acc: 0.7320\n",
      "Epoch 39/100\n",
      "1000/1000 [==============================] - 0s 39us/step - loss: 0.5728 - acc: 0.7400\n",
      "Epoch 40/100\n",
      "1000/1000 [==============================] - 0s 42us/step - loss: 0.5662 - acc: 0.7400\n",
      "Epoch 41/100\n",
      "1000/1000 [==============================] - 0s 60us/step - loss: 0.5707 - acc: 0.7370\n",
      "Epoch 42/100\n",
      "1000/1000 [==============================] - 0s 60us/step - loss: 0.5658 - acc: 0.7300\n",
      "Epoch 43/100\n",
      "1000/1000 [==============================] - 0s 71us/step - loss: 0.5611 - acc: 0.7370\n",
      "Epoch 44/100\n",
      "1000/1000 [==============================] - 0s 77us/step - loss: 0.5590 - acc: 0.7560\n",
      "Epoch 45/100\n",
      "1000/1000 [==============================] - 0s 82us/step - loss: 0.5571 - acc: 0.7550\n",
      "Epoch 46/100\n",
      "1000/1000 [==============================] - 0s 86us/step - loss: 0.5548 - acc: 0.7390\n",
      "Epoch 47/100\n",
      "1000/1000 [==============================] - 0s 93us/step - loss: 0.5550 - acc: 0.7500\n",
      "Epoch 48/100\n",
      "1000/1000 [==============================] - 0s 81us/step - loss: 0.5541 - acc: 0.7390\n",
      "Epoch 49/100\n",
      "1000/1000 [==============================] - 0s 76us/step - loss: 0.5489 - acc: 0.7530\n",
      "Epoch 50/100\n",
      "1000/1000 [==============================] - 0s 80us/step - loss: 0.5483 - acc: 0.7370\n",
      "Epoch 51/100\n",
      "1000/1000 [==============================] - 0s 83us/step - loss: 0.5414 - acc: 0.7610\n",
      "Epoch 52/100\n",
      "1000/1000 [==============================] - 0s 80us/step - loss: 0.5446 - acc: 0.7550\n",
      "Epoch 53/100\n",
      "1000/1000 [==============================] - 0s 78us/step - loss: 0.5462 - acc: 0.7550\n",
      "Epoch 54/100\n",
      "1000/1000 [==============================] - 0s 52us/step - loss: 0.5384 - acc: 0.7680\n",
      "Epoch 55/100\n",
      "1000/1000 [==============================] - 0s 73us/step - loss: 0.5409 - acc: 0.7520\n",
      "Epoch 56/100\n",
      "1000/1000 [==============================] - 0s 74us/step - loss: 0.5371 - acc: 0.7610\n",
      "Epoch 57/100\n",
      "1000/1000 [==============================] - 0s 72us/step - loss: 0.5320 - acc: 0.7530\n",
      "Epoch 58/100\n",
      "1000/1000 [==============================] - 0s 67us/step - loss: 0.5308 - acc: 0.7480\n",
      "Epoch 59/100\n",
      "1000/1000 [==============================] - 0s 76us/step - loss: 0.5347 - acc: 0.7500\n",
      "Epoch 60/100\n",
      "1000/1000 [==============================] - 0s 66us/step - loss: 0.5296 - acc: 0.7740\n",
      "Epoch 61/100\n",
      "1000/1000 [==============================] - 0s 69us/step - loss: 0.5273 - acc: 0.7610\n",
      "Epoch 62/100\n",
      "1000/1000 [==============================] - 0s 67us/step - loss: 0.5294 - acc: 0.7790\n",
      "Epoch 63/100\n",
      "1000/1000 [==============================] - 0s 68us/step - loss: 0.5270 - acc: 0.7670\n",
      "Epoch 64/100\n",
      "1000/1000 [==============================] - 0s 68us/step - loss: 0.5245 - acc: 0.7760\n",
      "Epoch 65/100\n",
      "1000/1000 [==============================] - 0s 78us/step - loss: 0.5229 - acc: 0.7660\n",
      "Epoch 66/100\n",
      "1000/1000 [==============================] - 0s 78us/step - loss: 0.5244 - acc: 0.7620\n",
      "Epoch 67/100\n",
      "1000/1000 [==============================] - 0s 76us/step - loss: 0.5159 - acc: 0.7820\n",
      "Epoch 68/100\n",
      "1000/1000 [==============================] - 0s 74us/step - loss: 0.5181 - acc: 0.7830\n",
      "Epoch 69/100\n",
      "1000/1000 [==============================] - 0s 73us/step - loss: 0.5175 - acc: 0.7780\n",
      "Epoch 70/100\n",
      "1000/1000 [==============================] - 0s 76us/step - loss: 0.5150 - acc: 0.7750\n",
      "Epoch 71/100\n",
      "1000/1000 [==============================] - 0s 70us/step - loss: 0.5150 - acc: 0.7710\n",
      "Epoch 72/100\n",
      "1000/1000 [==============================] - 0s 74us/step - loss: 0.5138 - acc: 0.7770\n",
      "Epoch 73/100\n",
      "1000/1000 [==============================] - 0s 71us/step - loss: 0.5114 - acc: 0.7770\n",
      "Epoch 74/100\n",
      "1000/1000 [==============================] - 0s 67us/step - loss: 0.5099 - acc: 0.7830\n",
      "Epoch 75/100\n",
      "1000/1000 [==============================] - 0s 63us/step - loss: 0.5087 - acc: 0.7780\n",
      "Epoch 76/100\n",
      "1000/1000 [==============================] - 0s 68us/step - loss: 0.5039 - acc: 0.7890\n",
      "Epoch 77/100\n",
      "1000/1000 [==============================] - 0s 67us/step - loss: 0.5090 - acc: 0.7820\n",
      "Epoch 78/100\n",
      "1000/1000 [==============================] - 0s 65us/step - loss: 0.5055 - acc: 0.7860\n",
      "Epoch 79/100\n",
      "1000/1000 [==============================] - 0s 61us/step - loss: 0.5020 - acc: 0.7820\n",
      "Epoch 80/100\n",
      "1000/1000 [==============================] - 0s 66us/step - loss: 0.5011 - acc: 0.7830\n",
      "Epoch 81/100\n",
      "1000/1000 [==============================] - 0s 54us/step - loss: 0.5007 - acc: 0.7790\n",
      "Epoch 82/100\n"
     ]
    },
    {
     "name": "stdout",
     "output_type": "stream",
     "text": [
      "1000/1000 [==============================] - 0s 52us/step - loss: 0.5022 - acc: 0.7800\n",
      "Epoch 83/100\n",
      "1000/1000 [==============================] - 0s 52us/step - loss: 0.4980 - acc: 0.7930\n",
      "Epoch 84/100\n",
      "1000/1000 [==============================] - 0s 60us/step - loss: 0.4969 - acc: 0.7760\n",
      "Epoch 85/100\n",
      "1000/1000 [==============================] - 0s 72us/step - loss: 0.4963 - acc: 0.7850\n",
      "Epoch 86/100\n",
      "1000/1000 [==============================] - 0s 48us/step - loss: 0.4985 - acc: 0.7810\n",
      "Epoch 87/100\n",
      "1000/1000 [==============================] - 0s 48us/step - loss: 0.4951 - acc: 0.7780\n",
      "Epoch 88/100\n",
      "1000/1000 [==============================] - 0s 48us/step - loss: 0.4931 - acc: 0.7840\n",
      "Epoch 89/100\n",
      "1000/1000 [==============================] - 0s 50us/step - loss: 0.4918 - acc: 0.7930\n",
      "Epoch 90/100\n",
      "1000/1000 [==============================] - 0s 47us/step - loss: 0.4919 - acc: 0.7740\n",
      "Epoch 91/100\n",
      "1000/1000 [==============================] - 0s 48us/step - loss: 0.4874 - acc: 0.7890\n",
      "Epoch 92/100\n",
      "1000/1000 [==============================] - 0s 53us/step - loss: 0.4881 - acc: 0.7830\n",
      "Epoch 93/100\n",
      "1000/1000 [==============================] - 0s 50us/step - loss: 0.4890 - acc: 0.7860\n",
      "Epoch 94/100\n",
      "1000/1000 [==============================] - 0s 58us/step - loss: 0.4890 - acc: 0.7890\n",
      "Epoch 95/100\n",
      "1000/1000 [==============================] - 0s 47us/step - loss: 0.4876 - acc: 0.7840\n",
      "Epoch 96/100\n",
      "1000/1000 [==============================] - 0s 48us/step - loss: 0.4872 - acc: 0.7880\n",
      "Epoch 97/100\n",
      "1000/1000 [==============================] - 0s 47us/step - loss: 0.4837 - acc: 0.7930\n",
      "Epoch 98/100\n",
      "1000/1000 [==============================] - 0s 47us/step - loss: 0.4837 - acc: 0.7920\n",
      "Epoch 99/100\n",
      "1000/1000 [==============================] - 0s 70us/step - loss: 0.4837 - acc: 0.7960\n",
      "Epoch 100/100\n",
      "1000/1000 [==============================] - 0s 76us/step - loss: 0.4823 - acc: 0.7870\n"
     ]
    },
    {
     "data": {
      "text/plain": [
       "<keras.callbacks.History at 0x3b70331ba8>"
      ]
     },
     "execution_count": 6,
     "metadata": {},
     "output_type": "execute_result"
    }
   ],
   "source": [
    "# Train model\n",
    "model.fit(\n",
    "data, labels,\n",
    "    epochs = 100,\n",
    "    batch_size=32,\n",
    "    verbose=1\n",
    ")"
   ]
  },
  {
   "cell_type": "code",
   "execution_count": 7,
   "metadata": {},
   "outputs": [
    {
     "name": "stdout",
     "output_type": "stream",
     "text": [
      "1000/1000 [==============================] - 0s 51us/step\n"
     ]
    }
   ],
   "source": [
    "# Evaluate model\n",
    "score = model.evaluate(data,labels,verbose=1)"
   ]
  },
  {
   "cell_type": "code",
   "execution_count": 8,
   "metadata": {},
   "outputs": [
    {
     "name": "stdout",
     "output_type": "stream",
     "text": [
      "After training: [('loss', 0.49904079055786132), ('acc', 0.76600000000000001)]\n"
     ]
    }
   ],
   "source": [
    "# Print score after training\n",
    "print(\"After training: {}\".format(\n",
    "list(zip(model.metrics_names,score))\n",
    "))"
   ]
  },
  {
   "cell_type": "code",
   "execution_count": 9,
   "metadata": {},
   "outputs": [],
   "source": [
    "# Save model image to file\n",
    "plot_model(model, to_file = 'keras_nn_1.png',\n",
    "           show_shapes=True)"
   ]
  },
  {
   "cell_type": "code",
   "execution_count": 13,
   "metadata": {},
   "outputs": [
    {
     "data": {
      "image/png": "[encoded data removed]",
      "text/plain": [
       "<matplotlib.figure.Figure at 0x3b70f2d940>"
      ]
     },
     "metadata": {},
     "output_type": "display_data"
    }
   ],
   "source": [
    "import matplotlib.pyplot as plt\n",
    "from cv2 import imread\n",
    "img = imread(\"keras_nn_1.png\")\n",
    "plt.imshow(img)\n",
    "plt.show()"
   ]
  },
  {
   "cell_type": "code",
   "execution_count": null,
   "metadata": {},
   "outputs": [],
   "source": []
  }
 ],
 "metadata": {
  "kernelspec": {
   "display_name": "Python 3",
   "language": "python",
   "name": "python3"
  },
  "language_info": {
   "codemirror_mode": {
    "name": "ipython",
    "version": 3
   },
   "file_extension": ".py",
   "mimetype": "text/x-python",
   "name": "python",
   "nbconvert_exporter": "python",
   "pygments_lexer": "ipython3",
   "version": "3.6.4"
  }
 },
 "nbformat": 4,
 "nbformat_minor": 2
}
