{
 "cells": [
  {
   "cell_type": "code",
   "execution_count": 1,
   "metadata": {},
   "outputs": [],
   "source": [
    "# Import modules\n",
    "import theano.tensor as T\n",
    "from theano import function"
   ]
  },
  {
   "cell_type": "code",
   "execution_count": 3,
   "metadata": {},
   "outputs": [
    {
     "name": "stdout",
     "output_type": "stream",
     "text": [
      "Sigmoid = [array([[ 0.26894142,  0.5       ,  0.73105858]])]\n"
     ]
    }
   ],
   "source": [
    "# Sigmoid function\n",
    "a = T.dmatrix('a')\n",
    "f_a = T.nnet.sigmoid(a)\n",
    "f_sigmoid = function([a],[f_a])\n",
    "print(\"Sigmoid = {}\".format(f_sigmoid([[-1,0,1]])))"
   ]
  },
  {
   "cell_type": "code",
   "execution_count": 5,
   "metadata": {},
   "outputs": [
    {
     "name": "stdout",
     "output_type": "stream",
     "text": [
      "tanh = [array([[-0.76159416,  0.        ,  0.76159416]])]\n"
     ]
    }
   ],
   "source": [
    "# tanh function\n",
    "b = T.dmatrix('b')\n",
    "f_b = T.tanh(b)\n",
    "f_tanh = function([b],[f_b])\n",
    "print(\"tanh = {}\".format(f_tanh([[-1,0,1]])))"
   ]
  },
  {
   "cell_type": "code",
   "execution_count": 6,
   "metadata": {},
   "outputs": [
    {
     "name": "stdout",
     "output_type": "stream",
     "text": [
      "fast sigmoid = [array([[ 0.25,  0.5 ,  0.75]])]\n"
     ]
    }
   ],
   "source": [
    "# fast sigmoid function\n",
    "c = T.dmatrix('c')\n",
    "f_c = T.nnet.ultra_fast_sigmoid(c)\n",
    "f_fast_sigmoid = function([c],[f_c])\n",
    "print(\"fast sigmoid = {}\".format(f_fast_sigmoid(\n",
    "[[-1,0,1]]\n",
    ")))"
   ]
  },
  {
   "cell_type": "code",
   "execution_count": 8,
   "metadata": {},
   "outputs": [
    {
     "name": "stdout",
     "output_type": "stream",
     "text": [
      "softplus = [array([[ 0.31326169,  0.69314718,  1.31326169]])]\n"
     ]
    }
   ],
   "source": [
    "# softplus\n",
    "d = T.dmatrix('d')\n",
    "f_d = T.nnet.softplus(d)\n",
    "f_softplus = function([d],[f_d])\n",
    "print(\"softplus = {}\".format(\n",
    "f_softplus([[-1,0,1]])\n",
    "))"
   ]
  },
  {
   "cell_type": "code",
   "execution_count": 9,
   "metadata": {},
   "outputs": [
    {
     "name": "stdout",
     "output_type": "stream",
     "text": [
      "relu = [array([[ 0.,  0.,  1.]])]\n"
     ]
    }
   ],
   "source": [
    "# relu\n",
    "e = T.dmatrix('e')\n",
    "f_e = T.nnet.relu(e)\n",
    "f_relu = function([e],[f_e])\n",
    "print(\"relu = {}\".format(\n",
    "f_relu([[-1,0,1]])\n",
    "))"
   ]
  },
  {
   "cell_type": "code",
   "execution_count": 10,
   "metadata": {},
   "outputs": [
    {
     "name": "stdout",
     "output_type": "stream",
     "text": [
      "softmax = [array([[ 0.09003057,  0.24472847,  0.66524096]])]\n"
     ]
    }
   ],
   "source": [
    "# softmax\n",
    "g = T.dmatrix('g')\n",
    "f_g = T.nnet.softmax(g)\n",
    "f_softmax = function([g],[f_g])\n",
    "print(\"softmax = {}\".format(\n",
    "f_softmax([[-1,0,1]])\n",
    "))"
   ]
  },
  {
   "cell_type": "code",
   "execution_count": null,
   "metadata": {},
   "outputs": [],
   "source": []
  }
 ],
 "metadata": {
  "kernelspec": {
   "display_name": "Python 3",
   "language": "python",
   "name": "python3"
  },
  "language_info": {
   "codemirror_mode": {
    "name": "ipython",
    "version": 3
   },
   "file_extension": ".py",
   "mimetype": "text/x-python",
   "name": "python",
   "nbconvert_exporter": "python",
   "pygments_lexer": "ipython3",
   "version": "3.6.4"
  }
 },
 "nbformat": 4,
 "nbformat_minor": 2
}
