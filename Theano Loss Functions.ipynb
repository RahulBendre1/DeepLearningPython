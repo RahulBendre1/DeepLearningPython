{
 "cells": [
  {
   "cell_type": "code",
   "execution_count": 1,
   "metadata": {},
   "outputs": [],
   "source": [
    "# Import modules\n",
    "import theano.tensor as T\n",
    "from theano import function"
   ]
  },
  {
   "cell_type": "code",
   "execution_count": 2,
   "metadata": {},
   "outputs": [
    {
     "name": "stdout",
     "output_type": "stream",
     "text": [
      "Binary cross entropy = [array(3.058146503109446)]\n"
     ]
    }
   ],
   "source": [
    "# binary cross entropy\n",
    "a = T.dmatrix('a')\n",
    "b = T.dmatrix('b')\n",
    "f_a = T.nnet.binary_crossentropy(a,b).mean()\n",
    "f_sigmoid = function([a,b],[f_a])\n",
    "print(\"Binary cross entropy = {}\".format(\n",
    "f_sigmoid([[0.01,0.01,0.01]],[[0.99,0.99,0.01]])\n",
    "))"
   ]
  },
  {
   "cell_type": "code",
   "execution_count": 6,
   "metadata": {},
   "outputs": [
    {
     "name": "stdout",
     "output_type": "stream",
     "text": [
      "Categorical cross entropy = [array([ 9.16428867])]\n"
     ]
    }
   ],
   "source": [
    "# Categorical cross entropy\n",
    "c = T.dmatrix('c')\n",
    "d = T.dmatrix('d')\n",
    "f_c = T.nnet.categorical_crossentropy(c,d)\n",
    "f_sigmoid = function([c,d],[f_c])\n",
    "print(\"Categorical cross entropy = {}\".format(\n",
    "f_sigmoid([[0.01,0.01,0.01]],[[0.99,0.99,0.01]])\n",
    "))"
   ]
  },
  {
   "cell_type": "code",
   "execution_count": 4,
   "metadata": {},
   "outputs": [],
   "source": [
    "# Squared error\n",
    "def squared_error(x,y):\n",
    "    return (x-y)**2"
   ]
  },
  {
   "cell_type": "code",
   "execution_count": 7,
   "metadata": {},
   "outputs": [
    {
     "name": "stdout",
     "output_type": "stream",
     "text": [
      "Squared error = [array([[ 0.9604,  0.9604,  0.    ]])]\n"
     ]
    }
   ],
   "source": [
    "# Create variables\n",
    "x = T.dmatrix('x')\n",
    "y = T.dmatrix('y')\n",
    "f_d = squared_error(x,y)\n",
    "f_squared_error = function([x,y],[f_d])\n",
    "print(\"Squared error = {}\".format(\n",
    "    f_squared_error([[0.01,0.01,0.01]],\n",
    "                   [[0.99,0.99,0.01]])))"
   ]
  },
  {
   "cell_type": "code",
   "execution_count": null,
   "metadata": {},
   "outputs": [],
   "source": []
  }
 ],
 "metadata": {
  "kernelspec": {
   "display_name": "Python 3",
   "language": "python",
   "name": "python3"
  },
  "language_info": {
   "codemirror_mode": {
    "name": "ipython",
    "version": 3
   },
   "file_extension": ".py",
   "mimetype": "text/x-python",
   "name": "python",
   "nbconvert_exporter": "python",
   "pygments_lexer": "ipython3",
   "version": "3.6.4"
  }
 },
 "nbformat": 4,
 "nbformat_minor": 2
}
