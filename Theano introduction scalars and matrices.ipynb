{
 "cells": [
  {
   "cell_type": "code",
   "execution_count": 1,
   "metadata": {},
   "outputs": [],
   "source": [
    "# Import modules\n",
    "import theano.tensor as T\n",
    "import numpy as np\n",
    "from theano import function"
   ]
  },
  {
   "cell_type": "code",
   "execution_count": 2,
   "metadata": {},
   "outputs": [],
   "source": [
    "# Define variables\n",
    "# Define matrix\n",
    "a = T.dmatrix('a')\n",
    "b = T.dmatrix('b')\n",
    "c = T.dmatrix('c')\n",
    "d = T.dmatrix('d')\n",
    "\n",
    "# Define scalar\n",
    "p = T.dscalar('p')\n",
    "q = T.dscalar('q')\n",
    "r = T.dscalar('r')\n",
    "s = T.dscalar('s')\n",
    "u = T.dscalar('u')"
   ]
  },
  {
   "cell_type": "code",
   "execution_count": 3,
   "metadata": {},
   "outputs": [],
   "source": [
    "# Define function\n",
    "e = (\n",
    "((a*p) + (b-q) - (c+r)) * d/s\n",
    ") * u\n",
    "\n",
    "f = function([a,b,c,d,p,q,r,s,u],e)"
   ]
  },
  {
   "cell_type": "code",
   "execution_count": 4,
   "metadata": {},
   "outputs": [],
   "source": [
    "# Define data\n",
    "a_data = np.array([\n",
    "    [1,1],\n",
    "    [1,1]\n",
    "])\n",
    "b_data = np.array([\n",
    "    [2,2],\n",
    "    [2,2]\n",
    "])\n",
    "c_data = np.array([\n",
    "    [5,5],\n",
    "    [5,5]\n",
    "])\n",
    "d_data = np.array([\n",
    "    [3,3],\n",
    "    [3,3]\n",
    "])\n",
    "p_data = 1.0\n",
    "q_data = 2.0\n",
    "r_data = 3.0\n",
    "s_data = 4.0\n",
    "u_data = 5.0"
   ]
  },
  {
   "cell_type": "code",
   "execution_count": 5,
   "metadata": {},
   "outputs": [
    {
     "name": "stdout",
     "output_type": "stream",
     "text": [
      "Expected answer = [[-26.25 -26.25]\n",
      " [-26.25 -26.25]]\n",
      "Theano answer = [[-26.25 -26.25]\n",
      " [-26.25 -26.25]]\n"
     ]
    }
   ],
   "source": [
    "# Display results\n",
    "print(\"Expected answer = {}\".format(\n",
    "(\n",
    "((a_data*p_data) + (b_data-q_data) - (c_data+r_data)) \n",
    "    * d_data/s_data\n",
    ") * u_data\n",
    "))\n",
    "\n",
    "print(\"Theano answer = {}\".format(\n",
    "f(a_data,b_data,c_data,d_data,p_data,q_data,\n",
    " r_data,s_data,u_data)\n",
    "))"
   ]
  },
  {
   "cell_type": "code",
   "execution_count": null,
   "metadata": {},
   "outputs": [],
   "source": []
  }
 ],
 "metadata": {
  "kernelspec": {
   "display_name": "Python 3",
   "language": "python",
   "name": "python3"
  },
  "language_info": {
   "codemirror_mode": {
    "name": "ipython",
    "version": 3
   },
   "file_extension": ".py",
   "mimetype": "text/x-python",
   "name": "python",
   "nbconvert_exporter": "python",
   "pygments_lexer": "ipython3",
   "version": "3.6.4"
  }
 },
 "nbformat": 4,
 "nbformat_minor": 2
}
